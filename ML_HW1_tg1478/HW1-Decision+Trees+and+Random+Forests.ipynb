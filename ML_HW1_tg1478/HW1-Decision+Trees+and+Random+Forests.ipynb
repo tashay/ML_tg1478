{
 "cells": [
  {
   "cell_type": "markdown",
   "metadata": {},
   "source": [
    "#### For this homework you can get 100 points + 20 bonus points. The bonus points will be counted into your total homework score until you get the maximum homework score, 400.\n",
    "\n",
    "Copying and pasting other people's code is absolutely prohibited.  I will report to the education team if I find any such cases. Collaboration and discussion is highly encouraged, and feel free to exchange ideas with your classmates, but write your own code please. "
   ]
  },
  {
   "cell_type": "markdown",
   "metadata": {
    "collapsed": true
   },
   "source": [
    "### Question 1: Accuracy and interpretability (10 pts)"
   ]
  },
  {
   "cell_type": "markdown",
   "metadata": {},
   "source": [
    "__a) Describe a real-world prediction problem using urban data for which _interpretability_ of your models and results is essential, and for which it might be preferable to use decision trees rather than random forests.  Argue why this is the case. (3 pts)__\n",
    "\n",
    "The NYS Department of Education administers the Regents exam each year and may want to predict student performance before the exam is given. The DOE may be able to predict performance by considering attributes such as gender, socioeconomic status, test scores, and attendance. A decision tree would be preferable because the interpretability enables you to identify the attributes having the greatest impact on student performance. If you are able to identify the negative attributes, you can solve for them through test prep, resource allocation, etc. By using random forests, it may be more difficult to isolate attributes impacting student performance and therefore they can't be solved for nor improve the quality of education a student receives. "
   ]
  },
  {
   "cell_type": "markdown",
   "metadata": {},
   "source": [
    "__b) Describe a real-world prediction problem using urban data for which _accuracy_ is paramount and interpretability may be less important, and for which it might be preferable to use random forests rather than decision trees.  Argue why this is the case. (3 pts)__\n",
    "\n",
    "The U.S. Department of Veterans Affairs conducts risk assessments of patients with mental disorders that have visited mental health facilities. Researchers have used random forests to predict suicide rates of at-risk patients after their visits to facilties, based on their assessment records. Accuracy is paramount becuase it can very literally be a matter of life and death for at-risk patients. If the VA is able to predict suicide amongst veterans they can target interventions and treatments, prescribe medication, and hopefully curb suicide rates. Understanding the weighting and influence of attributes within the model is less important than the accuracy of the results. "
   ]
  },
  {
   "cell_type": "markdown",
   "metadata": {},
   "source": [
    "__c) Let's imagine that you want to try to get the best of both worlds (accuracy _and_ interpretability).  So you decide to start by learning a random forest classifier.  Describe at least one way of getting some interpretability out of the model by post-processing.  You could either pick a method from the literature (e.g., Domingos's work on combining multiple models or some method of computing variable importance), or come up with your own approach (doesn't have to be ground-breaking, but feel free to be creative!) (4 pts)__\n",
    "\n",
    "Domingos' Knowledge Discovery Via Multiple Models introduces the idea of the 'Combined Multiple Methods' algorithm, a meta-learner that retains maximum accuracy of ensemble methods. The CMM algorithm allows for a classifier to be applied to model the partitioning produced by the combined models (ex. multiple decision trees in a random forest) by learning from a randomly generated data that has been predicted based on the combined modesls. "
   ]
  },
  {
   "cell_type": "markdown",
   "metadata": {},
   "source": [
    "###  Question 2: Build a tree by hand following exactly the lecture notes. Note that the dataset has been slightly modified, so you will get a different tree than the one shown in the lecture notes. (30 pts + 20 pts)\n",
    "\n",
    "30 points for parts a, b, c, d, f.\n",
    "20 bonus points for optional part e."
   ]
  },
  {
   "cell_type": "code",
   "execution_count": 1,
   "metadata": {
    "collapsed": false
   },
   "outputs": [],
   "source": [
    "import pandas as pd\n",
    "import numpy as np"
   ]
  },
  {
   "cell_type": "code",
   "execution_count": 2,
   "metadata": {
    "collapsed": true
   },
   "outputs": [],
   "source": [
    "data='MPG, cylinders, HP, weight\\ngood, 4, 75, light\\nbad, 6, 90, medium\\nbad, 4, 110, medium\\nbad, 8, 175, weighty\\nbad, 6, 95, medium\\nbad, 4, 94, light\\nbad, 4, 95, light\\nbad, 8, 139, weighty\\nbad, 8, 190, weighty\\nbad, 8, 145, weighty\\nbad, 6, 100, medium\\ngood, 4, 92, medium\\nbad, 6, 100, weighty\\nbad, 8, 170, weighty\\ngood, 4, 89, medium\\ngood, 4, 65, light\\nbad, 6, 85, medium\\ngood, 4, 81, light\\nbad, 6, 95, medium\\ngood, 4, 93, light'"
   ]
  },
  {
   "cell_type": "code",
   "execution_count": 3,
   "metadata": {
    "collapsed": false
   },
   "outputs": [
    {
     "name": "stdout",
     "output_type": "stream",
     "text": [
      "MPG,cylinders,HP,weight\n",
      "good,4,75,light\n",
      "bad,6,90,medium\n",
      "bad,4,110,medium\n",
      "bad,8,175,weighty\n",
      "bad,6,95,medium\n",
      "bad,4,94,light\n",
      "bad,4,95,light\n",
      "bad,8,139,weighty\n",
      "bad,8,190,weighty\n",
      "bad,8,145,weighty\n",
      "bad,6,100,medium\n",
      "good,4,92,medium\n",
      "bad,6,100,weighty\n",
      "bad,8,170,weighty\n",
      "good,4,89,medium\n",
      "good,4,65,light\n",
      "bad,6,85,medium\n",
      "good,4,81,light\n",
      "bad,6,95,medium\n",
      "good,4,93,light\n"
     ]
    }
   ],
   "source": [
    "data=\",\".join(data.split(\", \"))\n",
    "print data"
   ]
  },
  {
   "cell_type": "markdown",
   "metadata": {},
   "source": [
    "#### Please use numpy and pandas to do the calculation for parts a) through d):"
   ]
  },
  {
   "cell_type": "code",
   "execution_count": 4,
   "metadata": {
    "collapsed": false
   },
   "outputs": [],
   "source": [
    "#a) Prepare the data set to a pandas dataframe from the given string (2 pts)\n",
    "from StringIO import StringIO\n",
    "\n",
    "output = StringIO(data)\n",
    "df = pd.read_csv(output, sep=\",\")"
   ]
  },
  {
   "cell_type": "code",
   "execution_count": 5,
   "metadata": {
    "collapsed": false
   },
   "outputs": [
    {
     "name": "stdout",
     "output_type": "stream",
     "text": [
      "bad 14\n"
     ]
    }
   ],
   "source": [
    "#b) Start with the entire dataset and find the most common value (3 pts)\n",
    "#Reference: http://codereview.stackexchange.com/questions/109089/id3-decision-tree-in-python\n",
    "\n",
    "def get_max_freq(data):\n",
    "    \"\"\"\n",
    "    Returns the unique value with the greatest frequency\n",
    "    \"\"\"\n",
    "    value, count = np.unique(data, return_counts=True)\n",
    "    stats = dict(zip(value, count))\n",
    "    print max(stats,key=stats.get),max(count)\n",
    "\n",
    "get_max_freq(df)"
   ]
  },
  {
   "cell_type": "code",
   "execution_count": 6,
   "metadata": {
    "collapsed": false
   },
   "outputs": [
    {
     "name": "stdout",
     "output_type": "stream",
     "text": [
      "The split rule is HP 94, with max info gain: 0.556779649447\n"
     ]
    }
   ],
   "source": [
    "#c) Use \"information gain\" as your decision rule to split your data into two groups. What is the split rule and what is the maximum value of the information gain? (5 pts)\n",
    "#Reference: http://www.onlamp.com/pub/a/python/2006/02/09/ai_decision_trees.html?page=4\n",
    "#Reference: https://courses.cs.washington.edu/courses/cse455/10au/notes/InfoGain.pdf\n",
    "\n",
    "def create_mpg_dict(data):\n",
    "    value, count = np.unique(data['MPG'], return_counts=True)\n",
    "    dic = dict(zip(value, count))\n",
    "    if 'good' in dic.keys():\n",
    "        pass\n",
    "    else:\n",
    "        dic['good'] = 0\n",
    "    if 'bad' in dic.keys():\n",
    "        pass\n",
    "    else:\n",
    "        dic['bad'] = 0\n",
    "        \n",
    "    return dic\n",
    "\n",
    "\n",
    "def entropy(X,Y):\n",
    "    \"\"\"\n",
    "    Calculates the entropy for a target attribute value.\n",
    "    \"\"\"\n",
    "    X = float(X)\n",
    "    Y = float(Y)\n",
    "    if X == 0.0:\n",
    "        left = 0\n",
    "    else: \n",
    "        left = (X*np.log2((X + Y)/X))\n",
    "    if Y == 0.0:\n",
    "        right = 0\n",
    "    else: \n",
    "        right = (Y*np.log2((X+Y)/Y))\n",
    "    return (left + right)\n",
    "\n",
    "\n",
    "def info_gain(X,Y):\n",
    "    \"\"\"\n",
    "    Calculates the information gain for data split.\n",
    "    \"\"\"\n",
    "    B, A = create_mpg_dict(X).values()\n",
    "    D, C = create_mpg_dict(Y).values()\n",
    "    \n",
    "    total_entropy = entropy((A+C),(B+D)) - entropy(A,B) - entropy(C,D)\n",
    "    count = (A+B+C+D)\n",
    "    return total_entropy/count\n",
    "\n",
    "\n",
    "def find_best_split(data):\n",
    "    gains = []\n",
    "\n",
    "    for column in data:\n",
    "        # splitting categorical data\n",
    "        if column in ['cylinders', 'weight']:\n",
    "            for i in data[column].unique():\n",
    "                x = data[data[column] == i]\n",
    "                y = data[data[column] != i]\n",
    "                gains.append([info_gain(x,y),column,i])\n",
    "        \n",
    "        # splitting numerical data\n",
    "        elif column in ['HP']:\n",
    "            for i in data[column].unique():\n",
    "                x = data[data[column] >= i]\n",
    "                y = data[data[column] < i]\n",
    "                gains.append([info_gain(x,y),'HP',i])\n",
    "                \n",
    "        else:\n",
    "            pass\n",
    "     \n",
    "    gains.sort(key=lambda x: x[0], reverse=True)\n",
    "    return gains\n",
    "\n",
    "gainsList = find_best_split(df)\n",
    "print 'The split rule is ' + str(gainsList[0][1]),str(gainsList[0][2]) + ', with max info gain: ' +str(gainsList[0][0])"
   ]
  },
  {
   "cell_type": "code",
   "execution_count": 7,
   "metadata": {
    "collapsed": false
   },
   "outputs": [],
   "source": [
    "#d) Repeat the process b) and c) until you can perfectly split the training data.  Show the resulting decision tree in a format of your choice, as long as the tree structure and the prediction at each leaf node are clearly shown.  Note that you are _not_ expected to prune the tree in parts d) and e). (10 pts)\n",
    "    \n",
    "# Splitting on horsepower\n",
    "s1 = df[df['HP'] >= 94]\n",
    "s2 = df[df['HP'] < 94]\n",
    "\n",
    "# Finding next best split\n",
    "find_best_split(s2)\n",
    "\n",
    "# Splitting on cylinders\n",
    "s3 = s2[s2['cylinders'] == 4]\n",
    "s4 = s2[s2['cylinders'] != 4]"
   ]
  },
  {
   "cell_type": "markdown",
   "metadata": {},
   "source": [
    "#### d) Decision Tree\n",
    "\n",
    "                        Data \n",
    "                          |\n",
    "                      HP >= 94\n",
    "                      /     \\\n",
    "                   NO/       \\YES\n",
    "                    /         \\\n",
    "                   /           \\\n",
    "            Cylinders =4?     12 BAD\n",
    "                 / \\\n",
    "              NO/   \\YES\n",
    "               /     \\\n",
    "              /       \\\n",
    "           2 BAD      6 GOOD\n",
    "           "
   ]
  },
  {
   "cell_type": "code",
   "execution_count": 8,
   "metadata": {
    "collapsed": true
   },
   "outputs": [],
   "source": [
    "#f) Classify the following five vehicles as having \"good\" or \"bad\" fuel efficiency (miles per gallon).  You can do this by hand using the tree structure learned in part d), or automatically using the function you wrote in part e). (10 pts)\n",
    "\n",
    "#?,4,93,weighty\n",
    "#?,8,70,light\n",
    "#?,6,113,medium\n",
    "#?,6,95,weighty\n",
    "#?,4,115,medium"
   ]
  },
  {
   "cell_type": "markdown",
   "metadata": {},
   "source": [
    "#### f) Decision Tree\n",
    "\n",
    "                        Data \n",
    "                          |\n",
    "                      HP >= 94\n",
    "                      /     \\\n",
    "                   NO/       \\YES\n",
    "                    /         \\\n",
    "                   /           \\\n",
    "            Cylinders =4?     3 BAD\n",
    "                 / \\\n",
    "              NO/   \\YES\n",
    "               /     \\\n",
    "              /       \\\n",
    "           1 BAD      1 GOOD\n",
    "           \n",
    "\n",
    "- good,4,93,weighty\n",
    "- bad,8,70,light\n",
    "- bad,6,113,medium\n",
    "- bad,6,95,weighty\n",
    "- bad,4,115,medium"
   ]
  },
  {
   "cell_type": "markdown",
   "metadata": {},
   "source": [
    "### Question 3, Predicting burden of disease （40 pts)"
   ]
  },
  {
   "cell_type": "code",
   "execution_count": 9,
   "metadata": {
    "collapsed": false
   },
   "outputs": [
    {
     "name": "stdout",
     "output_type": "stream",
     "text": [
      "Here are the first three rows:\n"
     ]
    },
    {
     "data": {
      "text/html": [
       "<div>\n",
       "<table border=\"1\" class=\"dataframe\">\n",
       "  <thead>\n",
       "    <tr style=\"text-align: right;\">\n",
       "      <th></th>\n",
       "      <th>Country</th>\n",
       "      <th>FrxnPeaceIn10</th>\n",
       "      <th>ODA4H2OPcptaDol</th>\n",
       "      <th>RenewResm3PcptaYr</th>\n",
       "      <th>SustAccImprWatRur</th>\n",
       "      <th>SustAccImprWatUrb</th>\n",
       "      <th>SustAccImprSanRur</th>\n",
       "      <th>SustAccImprSanUrb</th>\n",
       "      <th>TotHlthExpPctofGDP</th>\n",
       "      <th>GenGovtPctofTotHlthExp</th>\n",
       "      <th>ExtResHlthPctTotExpHlth</th>\n",
       "      <th>PCptaGovtExpHlthAvgExcRt</th>\n",
       "      <th>GDPPCptaIntDol</th>\n",
       "      <th>AdultLtrcyRate</th>\n",
       "      <th>FemaleLtrcyRate</th>\n",
       "      <th>BurdenOfDisease</th>\n",
       "    </tr>\n",
       "  </thead>\n",
       "  <tbody>\n",
       "    <tr>\n",
       "      <th>0</th>\n",
       "      <td>Afghanistan</td>\n",
       "      <td>0.1</td>\n",
       "      <td>0.16</td>\n",
       "      <td>2986</td>\n",
       "      <td>0.10891</td>\n",
       "      <td>0.18812</td>\n",
       "      <td>0.049505</td>\n",
       "      <td>0.15842</td>\n",
       "      <td>0.065</td>\n",
       "      <td>0.395</td>\n",
       "      <td>0.4560</td>\n",
       "      <td>4</td>\n",
       "      <td>430</td>\n",
       "      <td>0.35644</td>\n",
       "      <td>0.20792</td>\n",
       "      <td>awful</td>\n",
       "    </tr>\n",
       "    <tr>\n",
       "      <th>1</th>\n",
       "      <td>Albania</td>\n",
       "      <td>1.0</td>\n",
       "      <td>5.58</td>\n",
       "      <td>13306</td>\n",
       "      <td>0.94059</td>\n",
       "      <td>0.98020</td>\n",
       "      <td>0.801980</td>\n",
       "      <td>0.98020</td>\n",
       "      <td>0.065</td>\n",
       "      <td>0.417</td>\n",
       "      <td>0.0340</td>\n",
       "      <td>49</td>\n",
       "      <td>6158</td>\n",
       "      <td>0.85644</td>\n",
       "      <td>0.78713</td>\n",
       "      <td>low</td>\n",
       "    </tr>\n",
       "    <tr>\n",
       "      <th>2</th>\n",
       "      <td>Algeria</td>\n",
       "      <td>0.0</td>\n",
       "      <td>0.33</td>\n",
       "      <td>473</td>\n",
       "      <td>0.79208</td>\n",
       "      <td>0.91089</td>\n",
       "      <td>0.811880</td>\n",
       "      <td>0.98020</td>\n",
       "      <td>0.041</td>\n",
       "      <td>0.808</td>\n",
       "      <td>0.0005</td>\n",
       "      <td>71</td>\n",
       "      <td>4860</td>\n",
       "      <td>0.69307</td>\n",
       "      <td>0.60396</td>\n",
       "      <td>high</td>\n",
       "    </tr>\n",
       "  </tbody>\n",
       "</table>\n",
       "</div>"
      ],
      "text/plain": [
       "       Country  FrxnPeaceIn10  ODA4H2OPcptaDol  RenewResm3PcptaYr  \\\n",
       "0  Afghanistan            0.1             0.16               2986   \n",
       "1      Albania            1.0             5.58              13306   \n",
       "2      Algeria            0.0             0.33                473   \n",
       "\n",
       "   SustAccImprWatRur  SustAccImprWatUrb  SustAccImprSanRur  SustAccImprSanUrb  \\\n",
       "0            0.10891            0.18812           0.049505            0.15842   \n",
       "1            0.94059            0.98020           0.801980            0.98020   \n",
       "2            0.79208            0.91089           0.811880            0.98020   \n",
       "\n",
       "   TotHlthExpPctofGDP  GenGovtPctofTotHlthExp  ExtResHlthPctTotExpHlth  \\\n",
       "0               0.065                   0.395                   0.4560   \n",
       "1               0.065                   0.417                   0.0340   \n",
       "2               0.041                   0.808                   0.0005   \n",
       "\n",
       "   PCptaGovtExpHlthAvgExcRt  GDPPCptaIntDol  AdultLtrcyRate  FemaleLtrcyRate  \\\n",
       "0                         4             430         0.35644          0.20792   \n",
       "1                        49            6158         0.85644          0.78713   \n",
       "2                        71            4860         0.69307          0.60396   \n",
       "\n",
       "  BurdenOfDisease  \n",
       "0           awful  \n",
       "1             low  \n",
       "2            high  "
      ]
     },
     "execution_count": 9,
     "metadata": {},
     "output_type": "execute_result"
    }
   ],
   "source": [
    "data=pd.read_csv(\"https://serv.cusp.nyu.edu/classes/ML_2016_Spring/ML_2017/Burden of diarrheal illness by country.csv\")\n",
    "print(\"Here are the first three rows:\")\n",
    "data.iloc[0:3,:]"
   ]
  },
  {
   "cell_type": "raw",
   "metadata": {},
   "source": [
    "### Data dictionary\n",
    "NAME: Burden of diarrheal illness by country\n",
    "SIZE: 130 Countries, 16 Variables\n",
    "\n",
    "VARIABLE DESCRIPTIONS:\n",
    "Country: Country name\n",
    "FrxnPeaceIn10: Fraction of the past ten years in which a country has been at peace \n",
    "ODA4H2OPcptaDol: Per Capita Official Developmental Assistance for water projects\n",
    "RenewResm3PcptaYr: Renewable Water Resources in cubic meters per capita per year\n",
    "SustAccImprWatRur: Fraction of rural population with sustainable access to improved water\n",
    "SustAccImprWatUrb: Fraction of urban population with sustainable access to improved water\n",
    "SustAccImprSanRur: Fraction of rural population with sustainable access to improved sanitation\n",
    "SustAccImprSanUrb: Fraction of urban population with sustainable access to improved sanitation\n",
    "TotHlthExpPctofGDP: Fraction of a country's GDP devoted to health spending\n",
    "GenGovtPctofTotHlthExp: The fraction of total health expenditures for a country which is provided by the government\n",
    "ExtResHlthPctTotExpHlth: The fraction of total health expenditures for a country which is comes from sources external to the country\n",
    "PCptaGovtExpHlthAvgExcRt: Per Capita Government Health Expenditures at the average exchange rate\n",
    "GDPPCptaIntDol: Gross Domestic Product per capita in international dollars\n",
    "AdultLtrcyRate: Adult Literacy rate\n",
    "FemaleLtrcyRate: Female Literacy rate\n",
    "\n",
    "BurdenOfDisease: Our target variable for classification.  The burden of disease due to diarrheal illness, categorized into \"low\", \"medium\", \"high\", and \"awful\" quartiles.  For each country, we have estimates of the number of Disability-Adjusted Life Years lost per 1000 persons per year (DALYs) due to diarrheal illness.  Countries with \"low\" burden of disease have up to 2.75345 DALYs; countries with \"medium\" burden of disease have between 2.75345 and 8.2127 DALYs; countries with \"high\" burden of disease have between 8.2127 and 26.699 DALYs; and countries with \"awful\" burden of diease have more than 26.699 DALYs."
   ]
  },
  {
   "cell_type": "markdown",
   "metadata": {},
   "source": [
    "#### Your goal is to train a decision tree classifier for the attribute “BurdenOfDisease\" using all other variables (except country name) as features using sklearn.tree.DecisionTreeClassifier. http://scikit-learn.org/stable/modules/generated/sklearn.tree.DecisionTreeClassifier.html"
   ]
  },
  {
   "cell_type": "markdown",
   "metadata": {},
   "source": [
    "__a) Please choose a test/train split and choose a hyper-parameter governing model simplicity. For example, the maximum tree depth or maximum number of leaf nodes. Then, fit your decision tree classifier for different values of this parameter and for each such value, record the corresponding AUC score. (10 pts)__"
   ]
  },
  {
   "cell_type": "code",
   "execution_count": 10,
   "metadata": {
    "collapsed": false
   },
   "outputs": [],
   "source": [
    "from sklearn.model_selection import train_test_split\n",
    "from sklearn.tree import DecisionTreeClassifier as DTC\n",
    "from sklearn.metrics import roc_auc_score as rs\n",
    "from sklearn.preprocessing import label_binarize\n",
    "\n",
    "#Split data into training and test set\n",
    "data['Burden'] = data['BurdenOfDisease'].map({'low':1, 'medium':2, 'high':3, 'awful':4})\n",
    "\n",
    "\n",
    "X = data[['FrxnPeaceIn10','ODA4H2OPcptaDol','RenewResm3PcptaYr','SustAccImprWatRur',\n",
    "                   'SustAccImprWatUrb','SustAccImprSanRur','SustAccImprSanUrb','TotHlthExpPctofGDP',\n",
    "                   'GenGovtPctofTotHlthExp','ExtResHlthPctTotExpHlth','PCptaGovtExpHlthAvgExcRt','GDPPCptaIntDol',\n",
    "                   'AdultLtrcyRate','FemaleLtrcyRate']]\n",
    "\n",
    "y = data.Burden\n",
    "\n",
    "#Splitting the data\n",
    "X_train, X_test, y_train, y_test = train_test_split(X, y, test_size = .4, random_state=999)"
   ]
  },
  {
   "cell_type": "code",
   "execution_count": 11,
   "metadata": {
    "collapsed": false
   },
   "outputs": [],
   "source": [
    "#Use OS accuracy.\n",
    "OS=[]\n",
    "for i in range(2,20,1):\n",
    "    classifier=DTC(max_leaf_nodes=i,random_state = 999)\n",
    "    classifier.fit(X_train,y_train)\n",
    "    OS.append(classifier.score(X_test,y_test))"
   ]
  },
  {
   "cell_type": "code",
   "execution_count": 12,
   "metadata": {
    "collapsed": false
   },
   "outputs": [
    {
     "data": {
      "text/plain": [
       "<matplotlib.legend.Legend at 0x103def2d0>"
      ]
     },
     "execution_count": 12,
     "metadata": {},
     "output_type": "execute_result"
    },
    {
     "data": {
      "image/png": "[encoded data removed]",
      "text/plain": [
       "<matplotlib.figure.Figure at 0x10ef85510>"
      ]
     },
     "metadata": {},
     "output_type": "display_data"
    }
   ],
   "source": [
    "import matplotlib.pylab as plt\n",
    "%matplotlib inline\n",
    "plt.plot(range(2,20,1),OS,label='OS Accuracy')\n",
    "plt.xlabel(\"Max leaf nodes\")\n",
    "plt.ylabel(\"OS\")\n",
    "plt.title(\"OS vs Simplicity (max leaf nodes)\")\n",
    "plt.legend()"
   ]
  },
  {
   "cell_type": "code",
   "execution_count": 13,
   "metadata": {
    "collapsed": false
   },
   "outputs": [],
   "source": [
    "#Reference: http://stackoverflow.com/questions/31614277/how-to-label-binarize-multiclass-in-a-specific-class-order\n",
    "\n",
    "real= np.array(y.apply(int))\n",
    "y_binary = label_binarize(real, classes=[1, 2, 3, 4])\n",
    "\n",
    "X_train, X_test, y_train, y_test = train_test_split(X, y_binary, test_size = .4, random_state=999)\n",
    "\n",
    "AUC=[]\n",
    "for i in range(2,20,1):    \n",
    "    classifier= DTC(max_leaf_nodes=i)\n",
    "    classifier.fit(X_train, y_train)\n",
    "    pred=classifier.predict(X_test)\n",
    "    AUC.append(rs(y_test,pred,average='micro'))"
   ]
  },
  {
   "cell_type": "code",
   "execution_count": 14,
   "metadata": {
    "collapsed": false
   },
   "outputs": [
    {
     "data": {
      "text/plain": [
       "[0.58333333333333337,\n",
       " 0.57692307692307687,\n",
       " 0.69230769230769218,\n",
       " 0.71794871794871795,\n",
       " 0.75641025641025639,\n",
       " 0.75641025641025639,\n",
       " 0.76923076923076916,\n",
       " 0.79487179487179482,\n",
       " 0.79807692307692302,\n",
       " 0.79487179487179482,\n",
       " 0.79487179487179482,\n",
       " 0.79487179487179482,\n",
       " 0.79487179487179482,\n",
       " 0.79487179487179482,\n",
       " 0.79487179487179482,\n",
       " 0.79487179487179482,\n",
       " 0.79487179487179482,\n",
       " 0.79487179487179482]"
      ]
     },
     "execution_count": 14,
     "metadata": {},
     "output_type": "execute_result"
    }
   ],
   "source": [
    "AUC"
   ]
  },
  {
   "cell_type": "markdown",
   "metadata": {},
   "source": [
    "__b) Make a plot of performance vs. simplicity for different values of the hyper-parameter chosen in part a). That is, the x-axis should be hyper-parameter value (e.g. tree depth) and the y-axis should be AUC score. (10 pts)__"
   ]
  },
  {
   "cell_type": "code",
   "execution_count": 15,
   "metadata": {
    "collapsed": false
   },
   "outputs": [
    {
     "data": {
      "image/png": "[encoded data removed]",
      "text/plain": [
       "<matplotlib.figure.Figure at 0x112ab4b10>"
      ]
     },
     "metadata": {},
     "output_type": "display_data"
    }
   ],
   "source": [
    "plt.figure(figsize=(7,5))\n",
    "plt.plot(range(2,20,1),AUC,label='AUC Score')\n",
    "plt.xlabel(\"Max leaf nodes\")\n",
    "plt.ylabel(\"OS_AUC\")\n",
    "plt.title(\"AUC vs Simplicity (max leaf nodes)\")\n",
    "plt.xlim(1,20)\n",
    "plt.legend()\n",
    "plt.show()"
   ]
  },
  {
   "cell_type": "markdown",
   "metadata": {},
   "source": [
    "__c) Tune the hyper-parameter you chose in part a) by cross-validation using the training data. You can choose to use a  package from sklearn or write your own code to do cross-validation by spliting the training data into training and validation data. What is the OS accuracy after tuning the hyper-parameter? (10 pts)__"
   ]
  },
  {
   "cell_type": "code",
   "execution_count": 16,
   "metadata": {
    "collapsed": false
   },
   "outputs": [
    {
     "name": "stdout",
     "output_type": "stream",
     "text": [
      "The OS score after tuning the hyper-parameter is 0.692307692308.\n"
     ]
    }
   ],
   "source": [
    "from sklearn.model_selection import GridSearchCV\n",
    "param_grid ={'max_leaf_nodes':range(2,20,1)}\n",
    "\n",
    "classifier=DTC()\n",
    "gr=GridSearchCV(classifier,param_grid=param_grid)\n",
    "rv=gr.fit(X_train,y_train)\n",
    "\n",
    "print 'The OS score after tuning the hyper-parameter is ' + str(rv.score(X_test,y_test)) + '.'"
   ]
  },
  {
   "cell_type": "markdown",
   "metadata": {},
   "source": [
    "__d) Visualize a simple decision tree (e.g. a “shallow” tree, or a tree with\n",
    "few leaf nodes) classifier and report its performance. You can draw\n",
    "the decision tree by hand or use a graphical representation (e.g.\n",
    "http://scikit-learn.org/stable/modules/generated/sklearn.tree.export_graphviz.html), but make sure it is easy to understand (e.g. the\n",
    "features chosen for each split should be clearly labeled in each\n",
    "internal node, as well as the prediction at each leaf node). (10 pts)__"
   ]
  },
  {
   "cell_type": "code",
   "execution_count": 17,
   "metadata": {
    "collapsed": false
   },
   "outputs": [],
   "source": [
    "from sklearn import tree\n",
    "import pydotplus\n",
    "\n",
    "#tree.export_graphviz(classifier, out_file='tree.dot')"
   ]
  },
  {
   "cell_type": "markdown",
   "metadata": {},
   "source": [
    "### Question 4, Fit a random forest to the data from question 3 (20 pts)"
   ]
  },
  {
   "cell_type": "markdown",
   "metadata": {},
   "source": [
    "__a) Please use the same test/train split from previous question and feel free to tune the hyper-parameters for Random Forest model using training data. The package from sklearn is here: http://scikit-learn.org/stable/modules/generated/sklearn.ensemble.RandomForestClassifier.html.\n",
    "Then please report your out of sample prediction result and compare this model's performance with 2c). (10 pts)__"
   ]
  },
  {
   "cell_type": "code",
   "execution_count": 18,
   "metadata": {
    "collapsed": false
   },
   "outputs": [
    {
     "name": "stdout",
     "output_type": "stream",
     "text": [
      "The AUC score is: 0.730769230769.\n",
      "The OS score is: 0.692307692308.\n"
     ]
    }
   ],
   "source": [
    "from sklearn.ensemble import RandomForestClassifier as RFC\n",
    "\n",
    "rf = RFC(n_estimators=10, n_jobs=1,max_leaf_nodes=10, random_state=999)\n",
    "rf.fit(X_train, y_train)\n",
    "\n",
    "pred = rf.predict(X_test)\n",
    "\n",
    "AUCscore=(rs(y_test, pred, average='micro'))\n",
    "OSscore = rv.score(X_test,y_test)\n",
    "\n",
    "print 'The AUC score is: ' + str(AUCscore) + '.'\n",
    "print 'The OS score is: ' + str(OSscore) + '.'"
   ]
  },
  {
   "cell_type": "markdown",
   "metadata": {
    "collapsed": true
   },
   "source": [
    "__b) Write one paragraph comparing the results from those two models (Random Forest vs Decision Tree) in terms of both accuracy and interpretability. (10 pts)__"
   ]
  },
  {
   "cell_type": "markdown",
   "metadata": {
    "collapsed": true
   },
   "source": [
    "As expected, the accuracy for the random forest method was considerably higher than that of the decision tree model. The decision tree model is great for being able to interpret the results of your tree and visibly follow the splits at each node of the tree but the accuracy is much lower than the random forest model. At each step of splitting, you are able to see which attributes have the greatest information gain/impact on the tree. When constructing the decision tree from scratch, each step allows for complete transparency which isn't the case with random forest. The decision tree is especially susceptible to overfitting which is why it does not perform as well. The random forest model is less interpretable because it is unclear which decision trees the model is averaging and how they were created. Patterns that may have been clear in one mode is no longer clear upon combining multiple trees within the random forest."
   ]
  }
 ],
 "metadata": {
  "anaconda-cloud": {},
  "celltoolbar": "Raw Cell Format",
  "kernelspec": {
   "display_name": "Python [ipykernel_py2]",
   "language": "python",
   "name": "Python [ipykernel_py2]"
  },
  "language_info": {
   "codemirror_mode": {
    "name": "ipython",
    "version": 2
   },
   "file_extension": ".py",
   "mimetype": "text/x-python",
   "name": "python",
   "nbconvert_exporter": "python",
   "pygments_lexer": "ipython2",
   "version": "2.7.13"
  }
 },
 "nbformat": 4,
 "nbformat_minor": 2
}
